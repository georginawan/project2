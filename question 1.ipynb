{
 "cells": [
  {
   "cell_type": "code",
   "execution_count": 3,
   "source": [
    "import pandas as pd\n",
    "import statsmodels.formula.api as smf\n",
    "\n",
    "df = pd.read_excel('data1.xlsx',sheet_name=\"Subj0\")\n",
    "print(df)\n"
   ],
   "outputs": [
    {
     "output_type": "stream",
     "name": "stdout",
     "text": [
      "     gIn  iIn      gOut      iOut\n",
      "0   4074  328  0.775602  0.103389\n",
      "1   4529   17  0.925802  0.099062\n",
      "2    635  425  0.642648  0.088019\n",
      "3   4567  467  0.755792  0.115123\n",
      "4   3162  340  0.771467  0.104773\n",
      "5    487  379  0.655847  0.079473\n",
      "6   1392  372  0.704669  0.088258\n",
      "7   2734  196  0.808771  0.066260\n",
      "8   4788  328  0.810301  0.094694\n",
      "9   4825   85  0.912698  0.084632\n",
      "10   788  353  0.705974  0.076912\n",
      "11  4853   15  0.974957  0.090212\n",
      "12  4786  138  0.868057  0.081118\n",
      "13  2427   23  0.874594  0.088208\n",
      "14  4002   48  0.901784  0.080660\n",
      "15   709  412  0.664309  0.082059\n",
      "16  2109  348  0.706978  0.085351\n",
      "17  4579  158  0.878808  0.093389\n",
      "18  3961  476  0.704852  0.111726\n",
      "19  4798   17  0.938350  0.071556\n"
     ]
    }
   ],
   "metadata": {}
  },
  {
   "cell_type": "code",
   "execution_count": 4,
   "source": [
    "mdl1 = smf.ols(formula='gIn ~ 1 + gOut + gOut*iOut', data=df)\n",
    "mdl1 = mdl1.fit()\n",
    "print(mdl1.summary())"
   ],
   "outputs": [
    {
     "output_type": "stream",
     "name": "stdout",
     "text": [
      "                            OLS Regression Results                            \n",
      "==============================================================================\n",
      "Dep. Variable:                    gIn   R-squared:                       0.860\n",
      "Model:                            OLS   Adj. R-squared:                  0.834\n",
      "Method:                 Least Squares   F-statistic:                     32.84\n",
      "Date:                Thu, 14 Oct 2021   Prob (F-statistic):           4.53e-07\n",
      "Time:                        13:01:05   Log-Likelihood:                -156.35\n",
      "No. Observations:                  20   AIC:                             320.7\n",
      "Df Residuals:                      16   BIC:                             324.7\n",
      "Df Model:                           3                                         \n",
      "Covariance Type:            nonrobust                                         \n",
      "==============================================================================\n",
      "                 coef    std err          t      P>|t|      [0.025      0.975]\n",
      "------------------------------------------------------------------------------\n",
      "Intercept  -4.087e+04   1.12e+04     -3.640      0.002   -6.47e+04   -1.71e+04\n",
      "gOut        4.981e+04   1.43e+04      3.491      0.003    1.96e+04    8.01e+04\n",
      "iOut        3.864e+05   1.29e+05      2.994      0.009    1.13e+05     6.6e+05\n",
      "gOut:iOut  -4.244e+05   1.64e+05     -2.581      0.020   -7.73e+05   -7.58e+04\n",
      "==============================================================================\n",
      "Omnibus:                        3.124   Durbin-Watson:                   2.194\n",
      "Prob(Omnibus):                  0.210   Jarque-Bera (JB):                1.334\n",
      "Skew:                          -0.344   Prob(JB):                        0.513\n",
      "Kurtosis:                       4.062   Cond. No.                     1.79e+03\n",
      "==============================================================================\n",
      "\n",
      "Notes:\n",
      "[1] Standard Errors assume that the covariance matrix of the errors is correctly specified.\n",
      "[2] The condition number is large, 1.79e+03. This might indicate that there are\n",
      "strong multicollinearity or other numerical problems.\n"
     ]
    }
   ],
   "metadata": {}
  },
  {
   "cell_type": "code",
   "execution_count": 5,
   "source": [
    "\n",
    "\n",
    "mdl2 = smf.ols(formula='iIn ~ 1 + gOut + iOut', data=df)\n",
    "mdl2 = mdl2.fit()\n",
    "print(mdl2.summary())"
   ],
   "outputs": [
    {
     "output_type": "stream",
     "name": "stdout",
     "text": [
      "                            OLS Regression Results                            \n",
      "==============================================================================\n",
      "Dep. Variable:                    iIn   R-squared:                       0.928\n",
      "Model:                            OLS   Adj. R-squared:                  0.920\n",
      "Method:                 Least Squares   F-statistic:                     109.7\n",
      "Date:                Thu, 14 Oct 2021   Prob (F-statistic):           1.92e-10\n",
      "Time:                        13:01:05   Log-Likelihood:                -103.98\n",
      "No. Observations:                  20   AIC:                             214.0\n",
      "Df Residuals:                      17   BIC:                             217.0\n",
      "Df Model:                           2                                         \n",
      "Covariance Type:            nonrobust                                         \n",
      "==============================================================================\n",
      "                 coef    std err          t      P>|t|      [0.025      0.975]\n",
      "------------------------------------------------------------------------------\n",
      "Intercept   1058.0486    120.201      8.802      0.000     804.448    1311.650\n",
      "gOut       -1428.0607    104.818    -13.624      0.000   -1649.207   -1206.914\n",
      "iOut        3690.8320    861.624      4.284      0.001    1872.964    5508.700\n",
      "==============================================================================\n",
      "Omnibus:                        4.036   Durbin-Watson:                   1.575\n",
      "Prob(Omnibus):                  0.133   Jarque-Bera (JB):                2.103\n",
      "Skew:                          -0.720   Prob(JB):                        0.349\n",
      "Kurtosis:                       3.670   Cond. No.                         105.\n",
      "==============================================================================\n",
      "\n",
      "Notes:\n",
      "[1] Standard Errors assume that the covariance matrix of the errors is correctly specified.\n"
     ]
    }
   ],
   "metadata": {}
  }
 ],
 "metadata": {
  "orig_nbformat": 4,
  "language_info": {
   "name": "python",
   "version": "3.8.11",
   "mimetype": "text/x-python",
   "codemirror_mode": {
    "name": "ipython",
    "version": 3
   },
   "pygments_lexer": "ipython3",
   "nbconvert_exporter": "python",
   "file_extension": ".py"
  },
  "kernelspec": {
   "name": "python3",
   "display_name": "Python 3.8.11 64-bit ('base': conda)"
  },
  "interpreter": {
   "hash": "140cb081de04583067b59f263323096c84c5edaf5c08cb85631fef6bd2eeb76d"
  }
 },
 "nbformat": 4,
 "nbformat_minor": 2
}